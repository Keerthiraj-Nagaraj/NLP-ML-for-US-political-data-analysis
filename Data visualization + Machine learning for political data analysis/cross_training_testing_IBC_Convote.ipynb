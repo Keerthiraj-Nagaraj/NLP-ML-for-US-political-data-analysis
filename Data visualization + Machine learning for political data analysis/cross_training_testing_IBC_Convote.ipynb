{
 "cells": [
  {
   "cell_type": "code",
   "execution_count": 1,
   "metadata": {},
   "outputs": [],
   "source": [
    "from sklearn.manifold import TSNE\n",
    "from collections import Counter\n",
    "from six.moves import cPickle\n",
    "from gensim.models import Word2Vec\n",
    "import numpy as np\n",
    "import matplotlib.pyplot as plt\n",
    "import os\n",
    "import sys\n",
    "import io\n",
    "import re\n",
    "import json\n",
    "import pickle\n",
    "import pandas as pd\n",
    "import gensim\n",
    "import glob\n",
    "\n",
    "from sklearn.feature_extraction.text import CountVectorizer, TfidfVectorizer,TfidfTransformer\n",
    "from sklearn.model_selection import train_test_split\n",
    "from sklearn.naive_bayes import MultinomialNB\n",
    "from sklearn.metrics import accuracy_score\n",
    "from sklearn.linear_model import SGDClassifier, LogisticRegression\n",
    "from sklearn.pipeline import Pipeline\n",
    "\n",
    "from nltk.tokenize import RegexpTokenizer\n",
    "from nltk.corpus import stopwords\n",
    "import nltk"
   ]
  },
  {
   "cell_type": "markdown",
   "metadata": {},
   "source": [
    "### Pre-processing function"
   ]
  },
  {
   "cell_type": "code",
   "execution_count": 2,
   "metadata": {},
   "outputs": [],
   "source": [
    "REPLACE_BY_SPACE_RE = re.compile('[/(){}\\[\\]\\|@,;]')\n",
    "BAD_SYMBOLS_RE = re.compile('[^0-9a-z #+_]')\n",
    "STOPWORDS = set(stopwords.words('english'))\n",
    "def clean_text(text):\n",
    "    \"\"\"\n",
    "        text: a string\n",
    "        \n",
    "        return: modified initial string\n",
    "    \"\"\"\n",
    "#     text = BeautifulSoup(text, \"lxml\").text # HTML decoding\n",
    "    text = text.lower() # lowercase text\n",
    "    text = REPLACE_BY_SPACE_RE.sub(' ', text) # replace REPLACE_BY_SPACE_RE symbols by space in text\n",
    "    text = BAD_SYMBOLS_RE.sub('', text) # delete symbols which are in BAD_SYMBOLS_RE from text\n",
    "    text = ' '.join(word for word in text.split() if word not in STOPWORDS) # delete stopwors from text\n",
    "    return text\n"
   ]
  },
  {
   "cell_type": "markdown",
   "metadata": {},
   "source": [
    "#### In convote data, we have set party label democrats as 0, matching the liberal label of 0 from IBC and Republicans have been labeled as 1, matching label 1 (conservative) of IBC.\n",
    "The assumption behind this method is, all sentences from Democratic party are liberal and those from Republicans should reflect conservative ideology "
   ]
  },
  {
   "cell_type": "markdown",
   "metadata": {},
   "source": [
    "### Get convote data"
   ]
  },
  {
   "cell_type": "code",
   "execution_count": 3,
   "metadata": {},
   "outputs": [],
   "source": [
    "convote_train_files_path = 'data_stage_one/training_set/*.txt'\n",
    "convote_test_files_path = 'data_stage_one/test_set/*.txt'\n",
    "convote_train_files = glob.glob(convote_train_files_path)\n",
    "convote_test_files = glob.glob(convote_test_files_path)\n",
    "filepath_dict = {'convote_train': convote_train_files,\n",
    "                 'convote_test': convote_test_files}"
   ]
  },
  {
   "cell_type": "code",
   "execution_count": 4,
   "metadata": {},
   "outputs": [],
   "source": [
    "convote_data = []\n",
    "\n",
    "for data_type, filenames in filepath_dict.items():\n",
    "    for i in range(len(filenames)):\n",
    "        f = open(filenames[i], 'r')\n",
    "        f_text = f.read()\n",
    "        #print(f_text)\n",
    "        f.close()\n",
    "        party = filenames[i].split('_')[-1][0]\n",
    "        sample_group = data_type.split('_')[-1]\n",
    "        #print(review_sentiment)\n",
    "        review_label = 0 if party == 'D' else 1\n",
    "        #print(review_label)\n",
    "        convote_data.append([f_text, party, sample_group, review_label])      "
   ]
  },
  {
   "cell_type": "code",
   "execution_count": 5,
   "metadata": {},
   "outputs": [],
   "source": [
    "convote_data = pd.DataFrame(convote_data)\n",
    "convote_data = convote_data.rename(index=str, columns={0: 'text', 1: 'party', 2: 'group', 3: 'party_label'})\n",
    "convote_data['text'] = convote_data['text'].apply(clean_text)"
   ]
  },
  {
   "cell_type": "code",
   "execution_count": 6,
   "metadata": {},
   "outputs": [],
   "source": [
    "X_convote = convote_data.text\n",
    "y_convote = convote_data.party_label"
   ]
  },
  {
   "cell_type": "code",
   "execution_count": 7,
   "metadata": {},
   "outputs": [
    {
     "data": {
      "text/plain": [
       "(7419,)"
      ]
     },
     "execution_count": 7,
     "metadata": {},
     "output_type": "execute_result"
    }
   ],
   "source": [
    "X_convote.shape"
   ]
  },
  {
   "cell_type": "markdown",
   "metadata": {},
   "source": [
    "### Get IBC data"
   ]
  },
  {
   "cell_type": "code",
   "execution_count": 8,
   "metadata": {},
   "outputs": [],
   "source": [
    "[lib,con,neutral]= pickle.load(open('ibcData.pkl','rb'))\n",
    "liberal = []\n",
    "for tree in lib:\n",
    "    liberal.append(tree.get_words())\n",
    "conservative = []\n",
    "for tree in con:\n",
    "    conservative.append(tree.get_words())\n",
    "neu = []\n",
    "for tree in neutral:\n",
    "    neu.append(tree.get_words())\n",
    "\n",
    "liberals = pd.DataFrame(liberal,columns=['text'])\n",
    "liberals['label'] = 0\n",
    "conservatives = pd.DataFrame(conservative,columns=['text'])\n",
    "conservatives['label'] = 1\n",
    "neutrals = pd.DataFrame(neu,columns=['text'])"
   ]
  },
  {
   "cell_type": "code",
   "execution_count": 9,
   "metadata": {},
   "outputs": [],
   "source": [
    "frames = [liberals,conservatives]\n",
    "result = pd.concat(frames)\n",
    "result = result.sample(frac=1).reset_index(drop=True)\n",
    "result['text'] = result['text'].apply(clean_text)"
   ]
  },
  {
   "cell_type": "code",
   "execution_count": 10,
   "metadata": {},
   "outputs": [],
   "source": [
    "X_ibc = result.text\n",
    "y_ibc = result.label"
   ]
  },
  {
   "cell_type": "code",
   "execution_count": 11,
   "metadata": {},
   "outputs": [
    {
     "data": {
      "text/plain": [
       "(3726,)"
      ]
     },
     "execution_count": 11,
     "metadata": {},
     "output_type": "execute_result"
    }
   ],
   "source": [
    "X_ibc.shape"
   ]
  },
  {
   "cell_type": "markdown",
   "metadata": {},
   "source": [
    "## Implementing BOW+TFIDF features"
   ]
  },
  {
   "cell_type": "markdown",
   "metadata": {},
   "source": [
    "### Multinomial Naive Bayes"
   ]
  },
  {
   "cell_type": "markdown",
   "metadata": {},
   "source": [
    "#### Training on convote testing on IBC"
   ]
  },
  {
   "cell_type": "code",
   "execution_count": 12,
   "metadata": {},
   "outputs": [
    {
     "name": "stdout",
     "output_type": "stream",
     "text": [
      "accuracy 0.5697799248523886\n"
     ]
    }
   ],
   "source": [
    "nb = Pipeline([('vect', CountVectorizer()),\n",
    "               ('tfidf', TfidfTransformer()),\n",
    "               ('clf', MultinomialNB()),\n",
    "              ])\n",
    "nb.fit(X_convote, y_convote)\n",
    "\n",
    "y_pred_nb1 = nb.predict(X_ibc)\n",
    "\n",
    "print('accuracy %s' % accuracy_score(y_ibc,y_pred_nb1))"
   ]
  },
  {
   "cell_type": "markdown",
   "metadata": {},
   "source": [
    "#### Training on IBC and testing on convote"
   ]
  },
  {
   "cell_type": "code",
   "execution_count": 16,
   "metadata": {},
   "outputs": [
    {
     "name": "stdout",
     "output_type": "stream",
     "text": [
      "accuracy 0.5081547378352878\n"
     ]
    }
   ],
   "source": [
    "nb = Pipeline([('vect', CountVectorizer()),\n",
    "               ('tfidf', TfidfTransformer()),\n",
    "               ('clf', MultinomialNB()),\n",
    "              ])\n",
    "nb.fit(X_ibc, y_ibc)\n",
    "\n",
    "y_pred_nb2 = nb.predict(X_convote)\n",
    "\n",
    "print('accuracy %s' % accuracy_score(y_convote,y_pred_nb2))"
   ]
  },
  {
   "cell_type": "markdown",
   "metadata": {},
   "source": [
    "### Linear SVM"
   ]
  },
  {
   "cell_type": "markdown",
   "metadata": {},
   "source": [
    "#### Training on convote and testing on IBC"
   ]
  },
  {
   "cell_type": "code",
   "execution_count": 13,
   "metadata": {},
   "outputs": [
    {
     "name": "stdout",
     "output_type": "stream",
     "text": [
      "accuracy 0.5517981749865808\n"
     ]
    }
   ],
   "source": [
    "sgd1 = Pipeline([('vect', CountVectorizer()),\n",
    "                ('tfidf', TfidfTransformer()),\n",
    "                ('clf', SGDClassifier(loss='hinge', penalty='l2',alpha=1e-3, random_state=42, max_iter=5, tol=None)),\n",
    "               ])\n",
    "sgd1.fit(X_convote, y_convote)\n",
    "\n",
    "y_pred_svm1 = sgd1.predict(X_ibc)\n",
    "\n",
    "print('accuracy %s' % accuracy_score(y_ibc,y_pred_svm1))"
   ]
  },
  {
   "cell_type": "markdown",
   "metadata": {},
   "source": [
    "#### Training on IBC and testing on convote"
   ]
  },
  {
   "cell_type": "code",
   "execution_count": 17,
   "metadata": {},
   "outputs": [
    {
     "name": "stdout",
     "output_type": "stream",
     "text": [
      "accuracy 0.5061329020083569\n"
     ]
    }
   ],
   "source": [
    "sgd1.fit(X_ibc, y_ibc)\n",
    "\n",
    "y_pred_svm2 = sgd1.predict(X_convote)\n",
    "\n",
    "print('accuracy %s' % accuracy_score(y_convote,y_pred_svm2))"
   ]
  },
  {
   "cell_type": "markdown",
   "metadata": {},
   "source": [
    "### Logistic Regression"
   ]
  },
  {
   "cell_type": "markdown",
   "metadata": {},
   "source": [
    "#### Training on convote and testing on IBC"
   ]
  },
  {
   "cell_type": "code",
   "execution_count": 14,
   "metadata": {},
   "outputs": [
    {
     "name": "stdout",
     "output_type": "stream",
     "text": [
      "accuracy 0.5260332796564681\n"
     ]
    }
   ],
   "source": [
    "logreg = Pipeline([('vect', CountVectorizer()),\n",
    "                ('tfidf', TfidfTransformer()),\n",
    "                ('clf', LogisticRegression(n_jobs=1, C=1e5)),\n",
    "               ])\n",
    "logreg.fit(X_convote, y_convote)\n",
    "\n",
    "y_pred_logreg1 = logreg.predict(X_ibc)\n",
    "\n",
    "print('accuracy %s' % accuracy_score(y_ibc,y_pred_logreg1))"
   ]
  },
  {
   "cell_type": "markdown",
   "metadata": {},
   "source": [
    "#### Training on IBC and testing on convote"
   ]
  },
  {
   "cell_type": "code",
   "execution_count": 18,
   "metadata": {},
   "outputs": [
    {
     "name": "stdout",
     "output_type": "stream",
     "text": [
      "accuracy 0.5123331985442782\n"
     ]
    }
   ],
   "source": [
    "logreg.fit(X_ibc, y_ibc)\n",
    "\n",
    "y_pred_logreg2 = logreg.predict(X_convote)\n",
    "\n",
    "print('accuracy %s' % accuracy_score(y_convote,y_pred_logreg2))"
   ]
  },
  {
   "cell_type": "markdown",
   "metadata": {},
   "source": [
    "#### Saving predicted results when training on Convote testing on IBC"
   ]
  },
  {
   "cell_type": "code",
   "execution_count": 15,
   "metadata": {},
   "outputs": [],
   "source": [
    "y_test = np.array(y_ibc)\n",
    "bow_ibc_convote = pd.DataFrame()\n",
    "bow_ibc_convote ['MultiNB'] = y_pred_nb1\n",
    "bow_ibc_convote ['SVM'] = y_pred_svm1\n",
    "bow_ibc_convote ['Logreg'] = y_pred_logreg1\n",
    "bow_ibc_convote ['yTrue'] = y_test\n",
    "bow_ibc_convote.to_csv('BOW+TFIDF_TrainConvote_TestIBC.csv')"
   ]
  },
  {
   "cell_type": "markdown",
   "metadata": {},
   "source": [
    "#### Saving predicted results when training on IBC and testing on Convote"
   ]
  },
  {
   "cell_type": "code",
   "execution_count": 19,
   "metadata": {},
   "outputs": [],
   "source": [
    "y_test = np.array(y_convote)\n",
    "bow_ibc_convote = pd.DataFrame()\n",
    "bow_ibc_convote ['MultiNB'] = y_pred_nb2\n",
    "bow_ibc_convote ['SVM'] = y_pred_svm2\n",
    "bow_ibc_convote ['Logreg'] = y_pred_logreg2\n",
    "bow_ibc_convote ['yTrue'] = y_test\n",
    "bow_ibc_convote.to_csv('BOW+TFIDF_TrainIBC_TestConvote.csv')"
   ]
  },
  {
   "cell_type": "markdown",
   "metadata": {},
   "source": [
    "## Implementing only BOW features"
   ]
  },
  {
   "cell_type": "markdown",
   "metadata": {},
   "source": [
    "### Training on convote and testing on IBC"
   ]
  },
  {
   "cell_type": "code",
   "execution_count": 20,
   "metadata": {},
   "outputs": [],
   "source": [
    "token = RegexpTokenizer(r'[a-zA-Z0-9]+')\n",
    "cv = CountVectorizer(lowercase=True,stop_words='english',ngram_range = (1,1),tokenizer = token.tokenize)\n",
    "text_counts_convote = cv.fit_transform(X_convote)\n",
    "text_counts_ibc = cv.transform(X_ibc)"
   ]
  },
  {
   "cell_type": "markdown",
   "metadata": {},
   "source": [
    "#### Multinomial Naive Bayes"
   ]
  },
  {
   "cell_type": "code",
   "execution_count": 21,
   "metadata": {
    "scrolled": true
   },
   "outputs": [
    {
     "name": "stdout",
     "output_type": "stream",
     "text": [
      "MultinomialNB Accuracy: 0.5759527643585615\n"
     ]
    }
   ],
   "source": [
    "clf = MultinomialNB().fit(text_counts_convote, y_convote)\n",
    "predicted_nb = clf.predict(text_counts_ibc)\n",
    "print(\"MultinomialNB Accuracy:\",accuracy_score(y_ibc,predicted_nb))"
   ]
  },
  {
   "cell_type": "markdown",
   "metadata": {},
   "source": [
    "#### Linear SVM"
   ]
  },
  {
   "cell_type": "code",
   "execution_count": 22,
   "metadata": {},
   "outputs": [
    {
     "name": "stdout",
     "output_type": "stream",
     "text": [
      "Linear SVM Accuracy: 0.5399892646269457\n"
     ]
    }
   ],
   "source": [
    "clf = SGDClassifier(loss='hinge', penalty='l2',alpha=1e-3, random_state=42, max_iter=5, tol=None).fit(text_counts_convote, y_convote)\n",
    "predicted_svm = clf.predict(text_counts_ibc)\n",
    "print(\"Linear SVM Accuracy:\",accuracy_score(y_ibc,predicted_svm))"
   ]
  },
  {
   "cell_type": "markdown",
   "metadata": {},
   "source": [
    "#### Logistic Regression"
   ]
  },
  {
   "cell_type": "code",
   "execution_count": 23,
   "metadata": {},
   "outputs": [
    {
     "name": "stdout",
     "output_type": "stream",
     "text": [
      "Logistic Regression Accuracy: 0.509393451422437\n"
     ]
    }
   ],
   "source": [
    "clf = LogisticRegression(n_jobs=1, C=1e5).fit(text_counts_convote, y_convote)\n",
    "predicted_logreg = clf.predict(text_counts_ibc)\n",
    "print(\"Logistic Regression Accuracy:\",accuracy_score(y_ibc,predicted_logreg))"
   ]
  },
  {
   "cell_type": "markdown",
   "metadata": {},
   "source": [
    "#### Saving predicted results to csv"
   ]
  },
  {
   "cell_type": "code",
   "execution_count": 24,
   "metadata": {},
   "outputs": [],
   "source": [
    "y_test = np.array(y_ibc)\n",
    "bow_ibc_convote = pd.DataFrame()\n",
    "bow_ibc_convote ['MultiNB'] = predicted_nb\n",
    "bow_ibc_convote ['SVM'] = predicted_svm\n",
    "bow_ibc_convote ['Logreg'] = predicted_logreg\n",
    "bow_ibc_convote ['yTrue'] = y_test\n",
    "bow_ibc_convote.to_csv('BOW_TrainConvote_TestIBC.csv')"
   ]
  },
  {
   "cell_type": "markdown",
   "metadata": {},
   "source": [
    "### Training on IBC and testing on convote"
   ]
  },
  {
   "cell_type": "code",
   "execution_count": null,
   "metadata": {},
   "outputs": [],
   "source": [
    "token = RegexpTokenizer(r'[a-zA-Z0-9]+')\n",
    "cv = CountVectorizer(lowercase=True,stop_words='english',ngram_range = (1,1),tokenizer = token.tokenize)\n",
    "text_counts_ibc = cv.fit_transform(X_ibc)\n",
    "text_counts_convote = cv.transform(X_convote)"
   ]
  },
  {
   "cell_type": "markdown",
   "metadata": {},
   "source": [
    "#### Multinomial Naive Bayes"
   ]
  },
  {
   "cell_type": "code",
   "execution_count": null,
   "metadata": {
    "scrolled": true
   },
   "outputs": [],
   "source": [
    "clf = MultinomialNB().fit(text_counts_ibc, y_ibc)\n",
    "predicted_nb = clf.predict(text_counts_convote)\n",
    "print(\"MultinomialNB Accuracy:\",accuracy_score(y_convote,predicted_nb))"
   ]
  },
  {
   "cell_type": "markdown",
   "metadata": {},
   "source": [
    "#### Linear SVM"
   ]
  },
  {
   "cell_type": "code",
   "execution_count": null,
   "metadata": {},
   "outputs": [],
   "source": [
    "clf = SGDClassifier(loss='hinge', penalty='l2',alpha=1e-3, random_state=42, max_iter=5, tol=None).fit(text_counts_ibc, y_ibc)\n",
    "predicted_svm = clf.predict(text_counts_convote)\n",
    "print(\"Linear SVM Accuracy:\",accuracy_score(y_convote,predicted_svm))"
   ]
  },
  {
   "cell_type": "markdown",
   "metadata": {},
   "source": [
    "#### Logistic Regression"
   ]
  },
  {
   "cell_type": "code",
   "execution_count": null,
   "metadata": {},
   "outputs": [],
   "source": [
    "clf = LogisticRegression(n_jobs=1, C=1e5).fit(text_counts_ibc, y_ibc)\n",
    "predicted_logreg = clf.predict(text_counts_convote)\n",
    "print(\"Logistic Regression Accuracy:\",accuracy_score(y_convote,predicted_logreg))"
   ]
  },
  {
   "cell_type": "markdown",
   "metadata": {},
   "source": [
    "#### Saving predicted results in csv file"
   ]
  },
  {
   "cell_type": "code",
   "execution_count": null,
   "metadata": {},
   "outputs": [],
   "source": [
    "y_test = np.array(y_convote)\n",
    "bow_ibc_convote = pd.DataFrame()\n",
    "bow_ibc_convote ['MultiNB'] = predicted_nb\n",
    "bow_ibc_convote ['SVM'] = predicted_svm\n",
    "bow_ibc_convote ['Logreg'] = predicted_logreg\n",
    "bow_ibc_convote ['yTrue'] = y_test\n",
    "bow_ibc_convote.to_csv('BOW_TrainIBC_TestConvote.csv')"
   ]
  },
  {
   "cell_type": "markdown",
   "metadata": {},
   "source": [
    "## Implementing only TFIDF features"
   ]
  },
  {
   "cell_type": "markdown",
   "metadata": {},
   "source": [
    "### Training on convote and testing on IBC"
   ]
  },
  {
   "cell_type": "code",
   "execution_count": null,
   "metadata": {},
   "outputs": [],
   "source": [
    "tf = TfidfVectorizer()\n",
    "text_tf_convote = tf.fit_transform(X_convote)\n",
    "text_tf_ibc = tf.transform(X_ibc)"
   ]
  },
  {
   "cell_type": "markdown",
   "metadata": {},
   "source": [
    "#### Multinomial Naive Bayes"
   ]
  },
  {
   "cell_type": "code",
   "execution_count": null,
   "metadata": {},
   "outputs": [],
   "source": [
    "clf = MultinomialNB().fit(text_tf_convote, y_convote)\n",
    "predicted_NB = clf.predict(text_tf_ibc)\n",
    "print(\"MultinomialNB Accuracy:\",accuracy_score(y_ibc, predicted_NB))"
   ]
  },
  {
   "cell_type": "markdown",
   "metadata": {},
   "source": [
    "#### Linear SVM"
   ]
  },
  {
   "cell_type": "code",
   "execution_count": null,
   "metadata": {},
   "outputs": [],
   "source": [
    "clf = SGDClassifier(loss='hinge', penalty='l2',alpha=1e-3, random_state=42, max_iter=5, tol=None).fit(text_tf_convote, y_convote)\n",
    "predicted_SVM = clf.predict(text_tf_ibc)\n",
    "print(\"Linear SVM Accuracy:\",accuracy_score(y_ibc, predicted_SVM))"
   ]
  },
  {
   "cell_type": "markdown",
   "metadata": {},
   "source": [
    "#### Logistic Regression"
   ]
  },
  {
   "cell_type": "code",
   "execution_count": null,
   "metadata": {},
   "outputs": [],
   "source": [
    "clf = LogisticRegression(n_jobs=1, C=1e5).fit(text_tf_convote, y_convote)\n",
    "predicted_LOG = clf.predict(text_tf_ibc)\n",
    "print(\"Logistic Regression Accuracy:\",accuracy_score(y_ibc, predicted_LOG))"
   ]
  },
  {
   "cell_type": "markdown",
   "metadata": {},
   "source": [
    "#### Saving predicted results in csv file"
   ]
  },
  {
   "cell_type": "code",
   "execution_count": null,
   "metadata": {},
   "outputs": [],
   "source": [
    "y_test = np.array(y_ibc)\n",
    "bow_ibc_convote = pd.DataFrame()\n",
    "bow_ibc_convote ['MultiNB'] = predicted_NB\n",
    "bow_ibc_convote ['SVM'] = predicted_SVM\n",
    "bow_ibc_convote ['Logreg'] = predicted_LOG\n",
    "bow_ibc_convote ['yTrue'] = y_test\n",
    "bow_ibc_convote.to_csv('TFIDF_TrainConvote_TestIBC.csv')"
   ]
  },
  {
   "cell_type": "markdown",
   "metadata": {},
   "source": [
    "### Training on IBC and testing on Convote"
   ]
  },
  {
   "cell_type": "code",
   "execution_count": null,
   "metadata": {},
   "outputs": [],
   "source": [
    "tf = TfidfVectorizer()\n",
    "text_tf_ibc = tf.fit_transform(X_ibc)\n",
    "text_tf_convote = tf.transform(X_convote)"
   ]
  },
  {
   "cell_type": "markdown",
   "metadata": {},
   "source": [
    "#### Multinomial Naive Bayes"
   ]
  },
  {
   "cell_type": "code",
   "execution_count": null,
   "metadata": {},
   "outputs": [],
   "source": [
    "clf = MultinomialNB().fit(text_tf_ibc, y_ibc)\n",
    "predicted_NB = clf.predict(text_tf_convote)\n",
    "print(\"MultinomialNB Accuracy:\",accuracy_score(y_convote, predicted_NB))"
   ]
  },
  {
   "cell_type": "markdown",
   "metadata": {},
   "source": [
    "#### Linear SVM"
   ]
  },
  {
   "cell_type": "code",
   "execution_count": null,
   "metadata": {},
   "outputs": [],
   "source": [
    "clf = SGDClassifier(loss='hinge', penalty='l2',alpha=1e-3, random_state=42, max_iter=5, tol=None).fit(text_tf_ibc, y_ibc)\n",
    "predicted_SVM = clf.predict(text_tf_convote)\n",
    "print(\"Linear SVM Accuracy:\",accuracy_score(y_convote, predicted_SVM))"
   ]
  },
  {
   "cell_type": "markdown",
   "metadata": {},
   "source": [
    "#### Logistic Regression"
   ]
  },
  {
   "cell_type": "code",
   "execution_count": null,
   "metadata": {},
   "outputs": [],
   "source": [
    "clf = LogisticRegression(n_jobs=1, C=1e5).fit(text_tf_ibc, y_ibc)\n",
    "predicted_LOG = clf.predict(text_tf_convote)\n",
    "print(\"Logistic Regression Accuracy:\",accuracy_score(y_convote, predicted_LOG))"
   ]
  },
  {
   "cell_type": "markdown",
   "metadata": {},
   "source": [
    "#### Saving predicted results to csv file "
   ]
  },
  {
   "cell_type": "code",
   "execution_count": null,
   "metadata": {},
   "outputs": [],
   "source": [
    "y_test = np.array(y_convote)\n",
    "bow_ibc_convote = pd.DataFrame()\n",
    "bow_ibc_convote ['MultiNB'] = predicted_NB\n",
    "bow_ibc_convote ['SVM'] = predicted_SVM\n",
    "bow_ibc_convote ['Logreg'] = predicted_LOG\n",
    "bow_ibc_convote ['yTrue'] = y_test\n",
    "bow_ibc_convote.to_csv('TFIDF_TrainIBC_TestConvote.csv')"
   ]
  },
  {
   "cell_type": "code",
   "execution_count": null,
   "metadata": {},
   "outputs": [],
   "source": []
  }
 ],
 "metadata": {
  "kernelspec": {
   "display_name": "Python 3",
   "language": "python",
   "name": "python3"
  },
  "language_info": {
   "codemirror_mode": {
    "name": "ipython",
    "version": 3
   },
   "file_extension": ".py",
   "mimetype": "text/x-python",
   "name": "python",
   "nbconvert_exporter": "python",
   "pygments_lexer": "ipython3",
   "version": "3.6.5"
  }
 },
 "nbformat": 4,
 "nbformat_minor": 2
}
